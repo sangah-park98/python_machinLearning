{
 "cells": [
  {
   "cell_type": "markdown",
   "id": "8f85c47f",
   "metadata": {},
   "source": [
    "경사 하강법(Gradient Descent) => 에러를 최소화하는 방법  \n",
    "\n",
    "기울기를 너무 크게 잡으면 오차가 커지고 너무 작게 잡아도 오차가 커진다.  \n",
    "기울기를 무한대로 키우면 오차도 무한대로 커지고 기울기를 무한대로 작게해도 오차는 무한대로 커진다."
   ]
  },
  {
   "cell_type": "code",
   "execution_count": 1,
   "id": "b068ca63",
   "metadata": {},
   "outputs": [
    {
     "name": "stdout",
     "output_type": "stream",
     "text": [
      "WARNING:tensorflow:From c:\\python\\lib\\site-packages\\tensorflow\\python\\compat\\v2_compat.py:101: disable_resource_variables (from tensorflow.python.ops.variable_scope) is deprecated and will be removed in a future version.\n",
      "Instructions for updating:\n",
      "non-resource variables are not supported in the long term\n"
     ]
    }
   ],
   "source": [
    "import warnings\n",
    "warnings.filterwarnings(action='ignore')\n",
    "%config Completer.use_jedi = False\n",
    "import tensorflow.compat.v1 as tf \n",
    "tf.disable_v2_behavior()\n",
    "import pandas as pd\n",
    "import numpy as np"
   ]
  },
  {
   "cell_type": "code",
   "execution_count": 2,
   "id": "2c0160f5",
   "metadata": {},
   "outputs": [],
   "source": [
    "data = [[2, 81], [4, 93], [6, 91], [8, 97]] # [x(공부 시간), y(시험 성적)]\n",
    "x = [i[0] for i in data] # 공부 시간\n",
    "y = [i[1] for i in data] # 시험 성적"
   ]
  },
  {
   "cell_type": "code",
   "execution_count": 3,
   "id": "7608def5",
   "metadata": {},
   "outputs": [
    {
     "name": "stdout",
     "output_type": "stream",
     "text": [
      "a = [9.315216], b = [92.58593]\n"
     ]
    }
   ],
   "source": [
    "# 기울기 a와 y절편 b를 임의로 정한다.\n",
    "# tf.random_uniform([난수의 개수], 최소값, 최대값, dtype=난수의 데이터 타입, seed=숫자)\n",
    "# dtype 생략시 기본값은 tf.float32이고 seed를 지정하면 항상 일정한 배열의 난수가 생성된다.\n",
    "a = tf.Variable(tf.random_uniform([1], 0, 10)) # 기울기(가중치), 0 ~ 10 사이의 난수\n",
    "b = tf.Variable(tf.random_uniform([1], 0, 100)) # y절편(바이어스), 0 ~ 100 사이의 난수\n",
    "sess = tf.Session()\n",
    "sess.run(tf.global_variables_initializer()) # \n",
    "print('a = {}, b = {}'.format(sess.run(a), sess.run(b)))"
   ]
  },
  {
   "cell_type": "code",
   "execution_count": 4,
   "id": "fb3d3670",
   "metadata": {},
   "outputs": [],
   "source": [
    "data = [[2, 81], [4, 93], [6, 91], [8, 97]] # [공부시간(x), 시험점수(y)]\n",
    "xData = [i[0] for i in data] # 공부시간\n",
    "yData = [i[1] for i in data] # 시험성적"
   ]
  },
  {
   "cell_type": "code",
   "execution_count": 5,
   "id": "c00a550b",
   "metadata": {},
   "outputs": [],
   "source": [
    "# 예측 성적을 얻기위한 가설(수식)을 만든다.\n",
    "Y = a * xData + b"
   ]
  },
  {
   "cell_type": "code",
   "execution_count": 6,
   "id": "2fcf8ac1",
   "metadata": {},
   "outputs": [],
   "source": [
    "# tensorflow에서 실행할 RMSE(평균 제곱근 오차) 수식(오차 함수)을 만든다.\n",
    "# tf.square(Y - yData) => 예측 성적과 실제 성적의 편차의 제곱을 계산한다.\n",
    "# tf.reduce_mean(tf.square(Y - yData)) => 예측 성적과 실제 성적의 편차의 제곱의 평균을 계산한다.\n",
    "# sqrt(): 제곱근값을 계산한다.\n",
    "# tf.sqrt(tf.reduce_mean(tf.square(Y - yData))) => 예측 성적과 실제 성적의 편차의 제곱의 평균에 대한 제곱근을 계산한다.\n",
    "rmse = tf.sqrt(tf.reduce_mean(tf.square(Y - yData)))"
   ]
  },
  {
   "cell_type": "code",
   "execution_count": 7,
   "id": "7dc8d734",
   "metadata": {},
   "outputs": [],
   "source": [
    "# 경사 하강법을 이용해서 RMSE를 최소로 하는 값을 찾는 수식을 만든다.\n",
    "# 학습율을 정한다.\n",
    "learning_rate = 0.1\n",
    "# 경사 하강법 수식\n",
    "gradient_descent = tf.train.GradientDescentOptimizer(learning_rate).minimize(rmse)\n",
    "\n",
    "# gradient_descent = tf.train.GradientDescentOptimizer(0.1).minimize(rmse) => 한 줄로 가능"
   ]
  },
  {
   "cell_type": "code",
   "execution_count": 10,
   "id": "cab8ccc5",
   "metadata": {},
   "outputs": [
    {
     "name": "stdout",
     "output_type": "stream",
     "text": [
      "epoch:    0, RMSE: 78.5431, 기울기:  2.3067, y절편:  0.4764\n",
      "epoch:  200, RMSE: 28.2623, 기울기: 13.8394, y절편: 10.1375\n",
      "epoch:  400, RMSE: 25.0575, 기울기: 12.5163, y절편: 18.0334\n",
      "epoch:  600, RMSE: 21.8639, 기울기: 11.1955, y절편: 25.9156\n",
      "epoch:  800, RMSE: 18.6870, 기울기:  9.8781, y절편: 33.7771\n",
      "epoch: 1000, RMSE: 15.5369, 기울기:  8.5663, y절편: 41.6053\n",
      "epoch: 1200, RMSE: 12.4335, 기울기:  7.2643, y절편: 49.3754\n",
      "epoch: 1400, RMSE:  9.4208, 기울기:  5.9814, y절편: 57.0310\n",
      "epoch: 1600, RMSE:  6.6125, 기울기:  4.7429, y절편: 64.4219\n",
      "epoch: 1800, RMSE:  4.3326, 기울기:  3.6282, y절편: 71.0741\n",
      "epoch: 2000, RMSE:  3.1677, 기울기:  2.8405, y절편: 75.7744\n",
      "epoch: 2200, RMSE:  2.9152, 기울기:  2.4829, y절편: 77.9083\n",
      "epoch: 2400, RMSE:  2.8846, 기울기:  2.3595, y절편: 78.6450\n",
      "epoch: 2600, RMSE:  2.8814, 기울기:  2.3193, y절편: 78.8851\n",
      "epoch: 2800, RMSE:  2.8810, 기울기:  2.3062, y절편: 78.9628\n",
      "epoch: 3000, RMSE:  2.8810, 기울기:  2.3020, y절편: 78.9880\n"
     ]
    }
   ],
   "source": [
    "# 학습 시킨다.\n",
    "# epoch: 여러 번의 반복\n",
    "import time\n",
    "sess = tf.Session()\n",
    "sess.run(tf.global_variables_initializer())\n",
    "\n",
    "for epoch in range(3001):\n",
    "    sess.run(gradient_descent)\n",
    "    if epoch % 200 == 0:\n",
    "        # print('epoch => {:4d}, RMSE: {:7.4f} 기울기: {:7.4f} y절편: {:7.4f}'.format(epoch, sess.run(rmse), sess.run(a)[0], sess.run(b)[0]))\n",
    "        print('epoch: %4d, RMSE: %7.4f, 기울기: %7.4f, y절편: %7.4f' % (epoch, sess.run(rmse), sess.run(a), sess.run(b)))\n",
    "        time.sleep(0.5)"
   ]
  },
  {
   "cell_type": "markdown",
   "id": "ece84543",
   "metadata": {},
   "source": [
    "<img src='./images/desc.png'/>"
   ]
  },
  {
   "cell_type": "code",
   "execution_count": null,
   "id": "c3516419",
   "metadata": {},
   "outputs": [],
   "source": []
  },
  {
   "cell_type": "code",
   "execution_count": null,
   "id": "9d98288b",
   "metadata": {},
   "outputs": [],
   "source": []
  },
  {
   "cell_type": "code",
   "execution_count": null,
   "id": "88cc4146",
   "metadata": {},
   "outputs": [],
   "source": []
  },
  {
   "cell_type": "code",
   "execution_count": null,
   "id": "9c40e711",
   "metadata": {},
   "outputs": [],
   "source": []
  },
  {
   "cell_type": "code",
   "execution_count": null,
   "id": "fea23862",
   "metadata": {},
   "outputs": [],
   "source": []
  },
  {
   "cell_type": "code",
   "execution_count": null,
   "id": "5ce20d3b",
   "metadata": {},
   "outputs": [],
   "source": []
  },
  {
   "cell_type": "code",
   "execution_count": null,
   "id": "5cc25ebb",
   "metadata": {},
   "outputs": [],
   "source": []
  },
  {
   "cell_type": "code",
   "execution_count": null,
   "id": "b57b8573",
   "metadata": {},
   "outputs": [],
   "source": []
  },
  {
   "cell_type": "code",
   "execution_count": null,
   "id": "1fc0b51a",
   "metadata": {},
   "outputs": [],
   "source": []
  }
 ],
 "metadata": {
  "kernelspec": {
   "display_name": "Python 3",
   "language": "python",
   "name": "python3"
  },
  "language_info": {
   "codemirror_mode": {
    "name": "ipython",
    "version": 3
   },
   "file_extension": ".py",
   "mimetype": "text/x-python",
   "name": "python",
   "nbconvert_exporter": "python",
   "pygments_lexer": "ipython3",
   "version": "3.6.8"
  }
 },
 "nbformat": 4,
 "nbformat_minor": 5
}
