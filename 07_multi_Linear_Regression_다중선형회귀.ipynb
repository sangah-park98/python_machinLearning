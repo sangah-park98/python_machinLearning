{
 "cells": [
  {
   "cell_type": "code",
   "execution_count": 1,
   "id": "020c12e4",
   "metadata": {},
   "outputs": [
    {
     "name": "stdout",
     "output_type": "stream",
     "text": [
      "WARNING:tensorflow:From c:\\python\\lib\\site-packages\\tensorflow\\python\\compat\\v2_compat.py:101: disable_resource_variables (from tensorflow.python.ops.variable_scope) is deprecated and will be removed in a future version.\n",
      "Instructions for updating:\n",
      "non-resource variables are not supported in the long term\n"
     ]
    }
   ],
   "source": [
    "import warnings\n",
    "warnings.filterwarnings(action='ignore')\n",
    "%config Completer.use_jedi = False\n",
    "import tensorflow.compat.v1 as tf \n",
    "tf.disable_v2_behavior()\n",
    "import pandas as pd\n",
    "import numpy as np"
   ]
  },
  {
   "cell_type": "code",
   "execution_count": 2,
   "id": "59520293",
   "metadata": {},
   "outputs": [],
   "source": [
    "data = [[2, 0, 81], [4, 4, 93], [6, 2, 91], [8, 3, 97]] # [x1(공부 시간), x2(과외 시간), y(시험 성적)]\n",
    "x1 = [i[0] for i in data] # 공부 시간\n",
    "x2 = [i[1] for i in data] # 과외 시간\n",
    "y = [i[2] for i in data] # 시험 성적, 실제값"
   ]
  },
  {
   "cell_type": "code",
   "execution_count": 3,
   "id": "45227971",
   "metadata": {},
   "outputs": [
    {
     "name": "stdout",
     "output_type": "stream",
     "text": [
      "a1 = [4.2676344], a2 = [8.967117], b = [31.44288]\n"
     ]
    }
   ],
   "source": [
    "# 기울기 a1과 기울기 a2, y절편 b를 임의로 정한다.\n",
    "# tf.random_uniform([난수의 개수], 최소값, 최대값, dtype=난수의 데이터 타입, seed=숫자)\n",
    "# dtype 생략시 기본값은 tf.float32이고 seed를 지정하면 항상 일정한 배열의 난수가 생성된다.\n",
    "a1 = tf.Variable(tf.random_uniform([1], 0, 10)) # 기울기(가중치), 0 ~ 10 사이의 난수\n",
    "a2 = tf.Variable(tf.random_uniform([1], 0, 10))\n",
    "b = tf.Variable(tf.random_uniform([1], 0, 100)) # y절편(바이어스), 0 ~ 100 사이의 난수\n",
    "sess = tf.Session()\n",
    "sess.run(tf.global_variables_initializer()) # \n",
    "print('a1 = {}, a2 = {}, b = {}'.format(sess.run(a1), sess.run(a2), sess.run(b)))"
   ]
  },
  {
   "cell_type": "code",
   "execution_count": 4,
   "id": "7cea30b3",
   "metadata": {},
   "outputs": [],
   "source": [
    "# 예측 성적을 얻기위한 가설(수식)을 만든다.\n",
    "Y = a1*x1 + a2*x2 + b\n",
    "# tensorflow에서 실행할 RMSE(평균 제곱근 오차) 수식(오차 함수)을 만든다.\n",
    "rmse = tf.sqrt(tf.reduce_mean(tf.square(Y - y)))\n",
    "# 경사 하강법을 이용해서 RMSE를 최소로 하는 값을 찾는 수식을 만든다.\n",
    "gradient_descent = tf.train.GradientDescentOptimizer(0.1).minimize(rmse)"
   ]
  },
  {
   "cell_type": "code",
   "execution_count": 6,
   "id": "983b7cc4",
   "metadata": {},
   "outputs": [
    {
     "name": "stdout",
     "output_type": "stream",
     "text": [
      "epoch =>    0, RMSE: 23.9252 기울기1:  8.7208, 기울기2:  8.1746, y절편: 19.1782\n",
      "epoch =>  200, RMSE: 20.5042 기울기1:  8.5099, 기울기2:  5.7039, y절편: 27.0399\n",
      "epoch =>  400, RMSE: 17.3065 기울기1:  7.6610, 기울기2:  4.6499, y절편: 34.9176\n",
      "epoch =>  600, RMSE: 14.1331 기울기1:  6.5907, 기울기2:  4.0854, y절편: 42.7915\n",
      "epoch =>  800, RMSE: 10.9620 기울기1:  5.4589, 기울기2:  3.6574, y절편: 50.6628\n",
      "epoch => 1000, RMSE:  7.7921 기울기1:  4.3145, 기울기2:  3.2577, y절편: 58.5322\n",
      "epoch => 1200, RMSE:  4.6259 기울기1:  3.1691, 기울기2:  2.8620, y절편: 66.3970\n",
      "epoch => 1400, RMSE:  1.4864 기울기1:  2.0284, 기울기2:  2.4682, y절편: 74.2287\n",
      "epoch => 1600, RMSE:  1.8369 기울기1:  1.3212, 기울기2:  2.1950, y절편: 77.2035\n",
      "epoch => 1800, RMSE:  1.8370 기울기1:  1.2458, 기울기2:  2.1687, y절편: 77.7043\n",
      "epoch => 2000, RMSE:  1.8370 기울기1:  1.2329, 기울기2:  2.1642, y절편: 77.7927\n",
      "epoch => 2200, RMSE:  1.8370 기울기1:  1.2306, 기울기2:  2.1634, y절편: 77.8083\n",
      "epoch => 2400, RMSE:  1.8370 기울기1:  1.2302, 기울기2:  2.1633, y절편: 77.8111\n",
      "epoch => 2600, RMSE:  1.8371 기울기1:  1.2301, 기울기2:  2.1633, y절편: 77.8113\n",
      "epoch => 2800, RMSE:  1.8371 기울기1:  1.2301, 기울기2:  2.1633, y절편: 77.8113\n",
      "epoch => 3000, RMSE:  1.8371 기울기1:  1.2301, 기울기2:  2.1633, y절편: 77.8113\n"
     ]
    }
   ],
   "source": [
    "# 학습 시킨다.\n",
    "import time\n",
    "sess = tf.Session()\n",
    "sess.run(tf.global_variables_initializer())\n",
    "\n",
    "for epoch in range(3001):\n",
    "    sess.run(gradient_descent)\n",
    "    if epoch % 200 == 0:\n",
    "        print('epoch => {:4d}, RMSE: {:7.4f} 기울기1: {:7.4f}, 기울기2: {:7.4f}, y절편: {:7.4f}'.format(epoch, sess.run(rmse), sess.run(a1)[0], sess.run(a2)[0], sess.run(b)[0]))\n",
    "        # print('epoch: %4d, RMSE: %7.4f, 기울기1: %7.4f, 기울기2: %7.4f, y절편: %7.4f' % (epoch, sess.run(rmse), sess.run(a1)[0], sess.run(a2)[0], sess.run(b)))\n",
    "        time.sleep(0.5)"
   ]
  },
  {
   "cell_type": "code",
   "execution_count": null,
   "id": "12503bbc",
   "metadata": {},
   "outputs": [],
   "source": []
  },
  {
   "cell_type": "code",
   "execution_count": null,
   "id": "5f3aa867",
   "metadata": {},
   "outputs": [],
   "source": []
  },
  {
   "cell_type": "code",
   "execution_count": null,
   "id": "d8db006a",
   "metadata": {},
   "outputs": [],
   "source": []
  },
  {
   "cell_type": "code",
   "execution_count": null,
   "id": "d46faf2a",
   "metadata": {},
   "outputs": [],
   "source": []
  },
  {
   "cell_type": "code",
   "execution_count": null,
   "id": "53ea4224",
   "metadata": {},
   "outputs": [],
   "source": []
  },
  {
   "cell_type": "code",
   "execution_count": null,
   "id": "6672d738",
   "metadata": {},
   "outputs": [],
   "source": []
  },
  {
   "cell_type": "code",
   "execution_count": null,
   "id": "84ae4d1a",
   "metadata": {},
   "outputs": [],
   "source": []
  },
  {
   "cell_type": "code",
   "execution_count": null,
   "id": "7fc813ae",
   "metadata": {},
   "outputs": [],
   "source": []
  },
  {
   "cell_type": "code",
   "execution_count": null,
   "id": "ba88d625",
   "metadata": {},
   "outputs": [],
   "source": []
  }
 ],
 "metadata": {
  "kernelspec": {
   "display_name": "Python 3",
   "language": "python",
   "name": "python3"
  },
  "language_info": {
   "codemirror_mode": {
    "name": "ipython",
    "version": 3
   },
   "file_extension": ".py",
   "mimetype": "text/x-python",
   "name": "python",
   "nbconvert_exporter": "python",
   "pygments_lexer": "ipython3",
   "version": "3.6.8"
  }
 },
 "nbformat": 4,
 "nbformat_minor": 5
}
