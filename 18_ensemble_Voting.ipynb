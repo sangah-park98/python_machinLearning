{
 "cells": [
  {
   "cell_type": "code",
   "execution_count": 1,
   "id": "bd0ef005",
   "metadata": {},
   "outputs": [],
   "source": [
    "import warnings\n",
    "warnings.filterwarnings(action='ignore')\n",
    "%config Completer.use_jedi = False\n",
    "import numpy as np\n",
    "import pandas as pd\n",
    "import matplotlib.pyplot as plt\n",
    "import seaborn as sns\n",
    "from sklearn.model_selection import train_test_split\n",
    "from sklearn.metrics import accuracy_score\n",
    "from sklearn.metrics import confusion_matrix\n",
    "from sklearn.metrics import classification_report"
   ]
  },
  {
   "cell_type": "code",
   "execution_count": 2,
   "id": "4a7f1fb4",
   "metadata": {},
   "outputs": [],
   "source": [
    "from sklearn.datasets import load_digits # MNIST 손글씨 데이터셋\n",
    "from sklearn.neighbors import KNeighborsClassifier # kNN\n",
    "from sklearn.svm import SVC # SVM\n",
    "from sklearn.tree import DecisionTreeClassifier # 의사 결정 트리\n",
    "# 하드/소프트 보팅을 계산하기 위해 import한다.\n",
    "from sklearn.ensemble import VotingClassifier"
   ]
  },
  {
   "cell_type": "markdown",
   "id": "97df7dd0",
   "metadata": {},
   "source": [
    "손글씨 데이터를 불러온다."
   ]
  },
  {
   "cell_type": "code",
   "execution_count": 3,
   "id": "20e6bdfc",
   "metadata": {},
   "outputs": [],
   "source": [
    "mnist = load_digits()\n",
    "features, labels = mnist.data, mnist.target"
   ]
  },
  {
   "cell_type": "markdown",
   "id": "a6c547e3",
   "metadata": {},
   "source": [
    "학습 데이터와 테스트 데이터를 나눈다."
   ]
  },
  {
   "cell_type": "code",
   "execution_count": 4,
   "id": "d04f3161",
   "metadata": {},
   "outputs": [
    {
     "name": "stdout",
     "output_type": "stream",
     "text": [
      "학습 데이터 개수: 1437, 테스트 데이터 개수: 360\n"
     ]
    }
   ],
   "source": [
    "X_train, X_test, Y_train, Y_test = train_test_split(features, labels, train_size=0.8)\n",
    "print('학습 데이터 개수: {}, 테스트 데이터 개수: {}'.format(X_train.shape[0], X_test.shape[0]))"
   ]
  },
  {
   "cell_type": "markdown",
   "id": "24a3ea1c",
   "metadata": {},
   "source": [
    "단일 모델의 정확도 측정  \n",
    "앙상블 정확도를 측정하기에 앞서서 단일 모델들의 정확도를 kNN, SVC, 의사 결정 트리 분류기를 만들어 정확도를 계산한다."
   ]
  },
  {
   "cell_type": "code",
   "execution_count": 5,
   "id": "5e685a11",
   "metadata": {},
   "outputs": [
    {
     "name": "stdout",
     "output_type": "stream",
     "text": [
      "knn 정확도: 84.72%\n"
     ]
    }
   ],
   "source": [
    "# kNN\n",
    "knn = KNeighborsClassifier(n_neighbors=299).fit(X_train, Y_train)\n",
    "knn_predict = knn.predict(X_test)\n",
    "print('knn 정확도: {:6.2%}'.format(accuracy_score(Y_test, knn_predict)))"
   ]
  },
  {
   "cell_type": "code",
   "execution_count": 6,
   "id": "abbf8671",
   "metadata": {},
   "outputs": [
    {
     "name": "stdout",
     "output_type": "stream",
     "text": [
      "svm 정확도: 91.11%\n"
     ]
    }
   ],
   "source": [
    "# svm\n",
    "svm = SVC(C=0.1, gamma=0.003, random_state=35, probability=True).fit(X_train, Y_train)\n",
    "svm_predict = svm.predict(X_test)\n",
    "print('svm 정확도: {:6.2%}'.format(accuracy_score(Y_test, svm_predict)))"
   ]
  },
  {
   "cell_type": "code",
   "execution_count": 7,
   "id": "ff494175",
   "metadata": {},
   "outputs": [
    {
     "name": "stdout",
     "output_type": "stream",
     "text": [
      "의사 결정 트리 정확도: 83.33%\n"
     ]
    }
   ],
   "source": [
    "# 의사 결정 트리\n",
    "dtree = DecisionTreeClassifier(random_state=35, max_depth=8).fit(X_train, Y_train)\n",
    "dtree_predict = dtree.predict(X_test)\n",
    "print('의사 결정 트리 정확도: {:6.2%}'.format(accuracy_score(Y_test, dtree_predict)))"
   ]
  },
  {
   "cell_type": "markdown",
   "id": "e17f4ae5",
   "metadata": {},
   "source": [
    "하드 보팅  \n",
    "일반적인 투표와 같이 각 분류기의 예측값들을 모아 가장 많은 투표를 받은 예측값으로 최종 결론을 내린다."
   ]
  },
  {
   "cell_type": "code",
   "execution_count": 8,
   "id": "9971caa9",
   "metadata": {},
   "outputs": [
    {
     "name": "stdout",
     "output_type": "stream",
     "text": [
      "하드 보팅 정확도: 92.78%\n"
     ]
    }
   ],
   "source": [
    " # 'knn' 이라고 쓰는 곳은 분류기를 쓰는 것으로 이를테면 기호 1번을 써도 된다.\n",
    "hv_clf = VotingClassifier(estimators=[('knn', knn), ('svm', svm), ('decision_tree', dtree)], weights=[1, 1, 1], voting='hard').fit(X_train, Y_train)\n",
    "hv_predict = hv_clf.predict(X_test)\n",
    "print('하드 보팅 정확도: {:6.2%}'.format(accuracy_score(Y_test, hv_predict)))"
   ]
  },
  {
   "cell_type": "markdown",
   "id": "fc7fb255",
   "metadata": {},
   "source": [
    "소프트 보팅  \n",
    "각 분류값별 확률을 더해준 값을 점수로 사용해 최대 점수를 가진 분류값으로 최종 결론을 내린다.  \n",
    "\n",
    "확률 합계  \n"
   ]
  },
  {
   "cell_type": "code",
   "execution_count": 9,
   "id": "5dd3674f",
   "metadata": {},
   "outputs": [
    {
     "name": "stdout",
     "output_type": "stream",
     "text": [
      "확률의 합계: 1.0\n"
     ]
    }
   ],
   "source": [
    "# predict_proba() 메소드로 각 데이터에 대한 확률을 구할 수 있다.\n",
    "knn_proba = knn.predict_proba(X_test)\n",
    "# print(len(knn_proba)) # 테스트 데이터가 360개였으므로 360이 나온다.\n",
    "# print(knn_proba)\n",
    "print('확률의 합계: {}'.format(knn_proba[0].sum()))"
   ]
  },
  {
   "cell_type": "code",
   "execution_count": 10,
   "id": "c2875a68",
   "metadata": {},
   "outputs": [
    {
     "name": "stdout",
     "output_type": "stream",
     "text": [
      "[9.37704102e-04 2.55875007e-03 2.12016118e-03 1.74332715e-03\n",
      " 2.22989375e-03 9.67011977e-01 8.84136269e-04 1.99797584e-03\n",
      " 1.41012058e-02 6.41486919e-03]\n",
      "확률의 합계: 1.0\n"
     ]
    }
   ],
   "source": [
    "svm_proba = svm.predict_proba(X_test)\n",
    "print(svm_proba[0])\n",
    "print('확률의 합계: {}'.format(svm_proba[0].sum())) # 부동소수점 연산으로 인해 소수점이 9999 나온다."
   ]
  },
  {
   "cell_type": "code",
   "execution_count": 11,
   "id": "394b1413",
   "metadata": {},
   "outputs": [
    {
     "name": "stdout",
     "output_type": "stream",
     "text": [
      "[0. 0. 0. 0. 0. 1. 0. 0. 0. 0.]\n",
      "확률의 합계: 1.0\n"
     ]
    }
   ],
   "source": [
    "dtree_proba = dtree.predict_proba(X_test)\n",
    "print(dtree_proba[0])\n",
    "print('확률의 합계: {}'.format(dtree_proba[0].sum())) "
   ]
  },
  {
   "cell_type": "code",
   "execution_count": 12,
   "id": "e90a640b",
   "metadata": {},
   "outputs": [
    {
     "name": "stdout",
     "output_type": "stream",
     "text": [
      "소프트 보팅 정확도: 90.83%\n"
     ]
    }
   ],
   "source": [
    "sv_clf = VotingClassifier(estimators=[('knn', knn), ('svm', svm), ('decision_tree', dtree)], weights=[1, 1, 1], voting='soft').fit(X_train, Y_train)\n",
    "sv_predict = sv_clf.predict(X_test)\n",
    "print('소프트 보팅 정확도: {:6.2%}'.format(accuracy_score(Y_test, sv_predict)))"
   ]
  },
  {
   "cell_type": "markdown",
   "id": "2a838ef0",
   "metadata": {},
   "source": [
    "단일 모델과 앙상블 모델의 정확도 비교 시각화"
   ]
  },
  {
   "cell_type": "code",
   "execution_count": 14,
   "id": "47d1c60c",
   "metadata": {},
   "outputs": [
    {
     "data": {
      "image/png": "[encoded data removed]",
      "text/plain": [
       "<Figure size 720x432 with 1 Axes>"
      ]
     },
     "metadata": {
      "needs_background": "light"
     },
     "output_type": "display_data"
    }
   ],
   "source": [
    "plt.figure(figsize=(10, 6))\n",
    "x = np.arange(5)\n",
    "plt.bar(x, height=[\n",
    "    accuracy_score(Y_test, knn_predict),\n",
    "    accuracy_score(Y_test, svm_predict),\n",
    "    accuracy_score(Y_test, dtree_predict),\n",
    "    accuracy_score(Y_test, hv_predict),\n",
    "    accuracy_score(Y_test, sv_predict),\n",
    "])\n",
    "plt.xticks(x, ['knn', 'svm', 'decision_tree', 'hard_voting', 'soft_voting'])\n",
    "plt.show()"
   ]
  },
  {
   "cell_type": "code",
   "execution_count": null,
   "id": "6d75d94c",
   "metadata": {},
   "outputs": [],
   "source": []
  },
  {
   "cell_type": "code",
   "execution_count": null,
   "id": "571f5496",
   "metadata": {},
   "outputs": [],
   "source": []
  },
  {
   "cell_type": "code",
   "execution_count": null,
   "id": "d00cd734",
   "metadata": {},
   "outputs": [],
   "source": []
  },
  {
   "cell_type": "code",
   "execution_count": null,
   "id": "f44e6668",
   "metadata": {},
   "outputs": [],
   "source": []
  },
  {
   "cell_type": "code",
   "execution_count": null,
   "id": "77b1e17d",
   "metadata": {},
   "outputs": [],
   "source": []
  },
  {
   "cell_type": "code",
   "execution_count": null,
   "id": "e8944591",
   "metadata": {},
   "outputs": [],
   "source": []
  },
  {
   "cell_type": "code",
   "execution_count": null,
   "id": "0b8907f2",
   "metadata": {},
   "outputs": [],
   "source": []
  },
  {
   "cell_type": "code",
   "execution_count": null,
   "id": "2a0cfa1e",
   "metadata": {},
   "outputs": [],
   "source": []
  },
  {
   "cell_type": "code",
   "execution_count": null,
   "id": "97ab82e9",
   "metadata": {},
   "outputs": [],
   "source": []
  },
  {
   "cell_type": "code",
   "execution_count": null,
   "id": "eca4c598",
   "metadata": {},
   "outputs": [],
   "source": []
  },
  {
   "cell_type": "code",
   "execution_count": null,
   "id": "1734d2c8",
   "metadata": {},
   "outputs": [],
   "source": []
  },
  {
   "cell_type": "code",
   "execution_count": null,
   "id": "f27333a0",
   "metadata": {},
   "outputs": [],
   "source": []
  }
 ],
 "metadata": {
  "kernelspec": {
   "display_name": "Python 3",
   "language": "python",
   "name": "python3"
  },
  "language_info": {
   "codemirror_mode": {
    "name": "ipython",
    "version": 3
   },
   "file_extension": ".py",
   "mimetype": "text/x-python",
   "name": "python",
   "nbconvert_exporter": "python",
   "pygments_lexer": "ipython3",
   "version": "3.6.8"
  }
 },
 "nbformat": 4,
 "nbformat_minor": 5
}
