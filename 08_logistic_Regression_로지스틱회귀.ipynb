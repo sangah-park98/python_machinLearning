{
 "cells": [
  {
   "cell_type": "code",
   "execution_count": 6,
   "id": "1caedee2",
   "metadata": {},
   "outputs": [],
   "source": [
    "import warnings\n",
    "warnings.filterwarnings(action='ignore')\n",
    "%config Completer.use_jedi = False\n",
    "import tensorflow.compat.v1 as tf \n",
    "tf.disable_v2_behavior()\n",
    "import pandas as pd\n",
    "import numpy as np"
   ]
  },
  {
   "cell_type": "markdown",
   "id": "c71ebe7e",
   "metadata": {},
   "source": [
    "공부 시간, 과외 시간, 시험 성적 사이의 관계는 좌표로 나타냈을 때 형태가 직선으로 해결되는 선형 회귀를 사용하기에 적합했었다.  \n",
    "공부 시간에 따른 시험 점수가 아닌 합격 여부로 발표되는 시험이 있을 경우 직선으로 해결하기에는 적합하지 못한 문제가 발생된다.  \n",
    "이럴 때 사용하는 로지스틱 회귀는 참과 거짓 중에 하나를 내놓는 과정으로 참과 거짓을 구분한 'S'자를 눕혀놓은 형태의 선을 그어주는 작업이다.  \n",
    "\n",
    "<img src='./images/sigmoid.png' width=\"1100\" align=\"left\"/>"
   ]
  },
  {
   "cell_type": "markdown",
   "id": "9c227e7f",
   "metadata": {},
   "source": [
    "참조  \n",
    "http://taewan.kim/post/sigmoid_diff/  \n",
    "https://devlog.jwgo.kr/2018/04/16/sigmoid-graph-according-to-slope-change/\n",
    "    "
   ]
  },
  {
   "cell_type": "code",
   "execution_count": 2,
   "id": "32e2de65",
   "metadata": {},
   "outputs": [
    {
     "name": "stdout",
     "output_type": "stream",
     "text": [
      "공부 시간: [2, 4, 6, 8, 10, 12, 14], 합격 여부: [0, 0, 0, 1, 1, 1, 1]\n"
     ]
    }
   ],
   "source": [
    "data = [[2, 0], [4, 0], [6, 0], [8, 1], [10, 1], [12, 1], [14, 1]] # [x(공부 시간), y(합격 여부)]\n",
    "x = [i[0] for i in data] # 공부 시간\n",
    "y = [i[1] for i in data] # 합격 여부, 실제값\n",
    "print('공부 시간: {}, 합격 여부: {}'.format(x, y))"
   ]
  },
  {
   "cell_type": "code",
   "execution_count": 8,
   "id": "663b4da8",
   "metadata": {},
   "outputs": [
    {
     "name": "stdout",
     "output_type": "stream",
     "text": [
      "a = [0.6211322], b = [0.04765775]\n"
     ]
    }
   ],
   "source": [
    "# 기울기 a와 y절편 b를 임의로 정한다.\n",
    "a = tf.Variable(tf.random_uniform([1], dtype=tf.float64))\n",
    "b = tf.Variable(tf.random_uniform([1], dtype=tf.float64))\n",
    "sess = tf.Session()\n",
    "sess.run(tf.global_variables_initializer()) \n",
    "print('a = {}, b = {}'.format(sess.run(a), sess.run(b)))"
   ]
  },
  {
   "cell_type": "markdown",
   "id": "fe81f8cc",
   "metadata": {},
   "source": [
    "시그모이드 방정식"
   ]
  },
  {
   "cell_type": "code",
   "execution_count": 9,
   "id": "a54982a7",
   "metadata": {},
   "outputs": [],
   "source": [
    "# np.e: 넘파이에서 지수값을 의미하는 상수\n",
    "Y = 1 / (1 + np.e ** - (a*x + b))"
   ]
  },
  {
   "cell_type": "markdown",
   "id": "d9c7b398",
   "metadata": {},
   "source": [
    "시그모이드 방정식의 오차를 계산하는 수식을 만든다.  \n",
    "시그모이드 함수의 특성은 예측값(Y)이 항상 0 아니면 1이다."
   ]
  },
  {
   "cell_type": "code",
   "execution_count": 10,
   "id": "3aab0939",
   "metadata": {},
   "outputs": [],
   "source": [
    "loss = -tf.reduce_mean(np.array(y) * tf.log(Y) + (1 - np.array(y)) * tf.log(1 - Y))"
   ]
  },
  {
   "cell_type": "markdown",
   "id": "6f5f9a7c",
   "metadata": {},
   "source": [
    "오차를 최소로 하는 값을 찾는다."
   ]
  },
  {
   "cell_type": "code",
   "execution_count": 11,
   "id": "bcd5d308",
   "metadata": {},
   "outputs": [],
   "source": [
    "gradient_descent = tf.train.GradientDescentOptimizer(0.1).minimize(loss)"
   ]
  },
  {
   "cell_type": "markdown",
   "id": "deeba318",
   "metadata": {},
   "source": [
    "학습 시킨다."
   ]
  },
  {
   "cell_type": "code",
   "execution_count": 15,
   "id": "8643199b",
   "metadata": {},
   "outputs": [
    {
     "name": "stdout",
     "output_type": "stream",
     "text": [
      "epoch:    0, loss:  1.1091, 기울기:  0.4382, y절편:  0.7277\n",
      "epoch:  200, loss:  0.3133, 기울기:  0.3586, y절편: -1.9156\n",
      "epoch:  400, loss:  0.2195, 기울기:  0.5295, y절편: -3.2616\n",
      "epoch:  600, loss:  0.1778, 기울기:  0.6483, y절편: -4.1632\n",
      "epoch:  800, loss:  0.1535, 기울기:  0.7410, y절편: -4.8531\n",
      "epoch: 1000, loss:  0.1371, 기울기:  0.8180, y절편: -5.4197\n",
      "epoch: 1200, loss:  0.1251, 기울기:  0.8845, y절편: -5.9052\n",
      "epoch: 1400, loss:  0.1158, 기울기:  0.9435, y절편: -6.3332\n",
      "epoch: 1600, loss:  0.1082, 기울기:  0.9967, y절편: -6.7181\n",
      "epoch: 1800, loss:  0.1019, 기울기:  1.0455, y절편: -7.0693\n",
      "epoch: 2000, loss:  0.0966, 기울기:  1.0906, y절편: -7.3933\n",
      "epoch: 2200, loss:  0.0919, 기울기:  1.1327, y절편: -7.6950\n",
      "epoch: 2400, loss:  0.0879, 기울기:  1.1722, y절편: -7.9779\n",
      "epoch: 2600, loss:  0.0842, 기울기:  1.2096, y절편: -8.2446\n",
      "epoch: 2800, loss:  0.0810, 기울기:  1.2450, y절편: -8.4975\n",
      "epoch: 3000, loss:  0.0780, 기울기:  1.2788, y절편: -8.7380\n"
     ]
    }
   ],
   "source": [
    "sess = tf.Session()\n",
    "sess.run(tf.global_variables_initializer())\n",
    "\n",
    "for epoch in range(3001):\n",
    "    sess.run(gradient_descent)\n",
    "    if epoch % 200 == 0:\n",
    "        # print('epoch => {:4d}, loss: {:7.4f}, 기울기: {:7.4f}, y절편: {:7.4f}'.format(epoch, sess.run(loss), sess.run(a)[0], sess.run(b)[0]))\n",
    "        print('epoch: %4d, loss: %7.4f, 기울기: %7.4f, y절편: %7.4f' % (epoch, sess.run(loss), sess.run(a), sess.run(b)))"
   ]
  },
  {
   "cell_type": "code",
   "execution_count": null,
   "id": "f4f07759",
   "metadata": {},
   "outputs": [],
   "source": []
  },
  {
   "cell_type": "code",
   "execution_count": null,
   "id": "3dacaa04",
   "metadata": {},
   "outputs": [],
   "source": []
  },
  {
   "cell_type": "code",
   "execution_count": null,
   "id": "1c969c3e",
   "metadata": {},
   "outputs": [],
   "source": []
  },
  {
   "cell_type": "code",
   "execution_count": null,
   "id": "c7e2b7df",
   "metadata": {},
   "outputs": [],
   "source": []
  },
  {
   "cell_type": "code",
   "execution_count": null,
   "id": "4666e231",
   "metadata": {},
   "outputs": [],
   "source": []
  },
  {
   "cell_type": "code",
   "execution_count": null,
   "id": "a250af56",
   "metadata": {},
   "outputs": [],
   "source": []
  },
  {
   "cell_type": "code",
   "execution_count": null,
   "id": "d3f72300",
   "metadata": {},
   "outputs": [],
   "source": []
  },
  {
   "cell_type": "code",
   "execution_count": null,
   "id": "afd80325",
   "metadata": {},
   "outputs": [],
   "source": []
  }
 ],
 "metadata": {
  "kernelspec": {
   "display_name": "Python 3",
   "language": "python",
   "name": "python3"
  },
  "language_info": {
   "codemirror_mode": {
    "name": "ipython",
    "version": 3
   },
   "file_extension": ".py",
   "mimetype": "text/x-python",
   "name": "python",
   "nbconvert_exporter": "python",
   "pygments_lexer": "ipython3",
   "version": "3.6.8"
  }
 },
 "nbformat": 4,
 "nbformat_minor": 5
}
