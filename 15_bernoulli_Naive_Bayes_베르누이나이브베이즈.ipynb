{
 "cells": [
  {
   "cell_type": "markdown",
   "id": "cb5e60cb",
   "metadata": {},
   "source": [
    "베르누이 나이브 베이즈를 활용한 스팸 메일 분류  \n",
    "이메일 제목과 레이블(스팸 여부) 데이터를 활용해 베르누이 나이브 베이즈 분률 스팸 메일을 분류한다."
   ]
  },
  {
   "cell_type": "code",
   "execution_count": 1,
   "id": "7f0b846f",
   "metadata": {},
   "outputs": [],
   "source": [
    "import warnings\n",
    "warnings.filterwarnings(action='ignore')\n",
    "%config Completer.use_jedi = False\n",
    "import numpy as np\n",
    "import pandas as pd\n",
    "import matplotlib.pyplot as plt\n",
    "import seaborn as sns\n",
    "from sklearn.model_selection import train_test_split\n",
    "from sklearn.metrics import accuracy_score\n",
    "from sklearn.metrics import confusion_matrix\n",
    "from sklearn.metrics import classification_report"
   ]
  },
  {
   "cell_type": "code",
   "execution_count": 2,
   "id": "67882f29",
   "metadata": {},
   "outputs": [],
   "source": [
    "# 베르누이 나이브 베이즈를 사용하기 위해 import한다.\n",
    "from sklearn.naive_bayes import BernoulliNB\n",
    "# CountVectorizer: 데이터에 출현한 모든 단어 개수만큼의 크기를 가진 벡터를 만들고 고정된 벡터로 표현하기 위해 import한다.\n",
    "from sklearn.feature_extraction.text import CountVectorizer"
   ]
  },
  {
   "cell_type": "markdown",
   "id": "8e5d8785",
   "metadata": {},
   "source": [
    "데이터 획득  \n",
    "간단한 스팸 메일 분류를 위해 다음과 같이 이메일 제목과 스팸 메일 레이블이 붙어있는 데이터를 사용한다.  \n",
    "email title: 이메일 제목, spam: 스팸 메일 여부(True => 스팸 메일, False => 스팸 메일 아님) "
   ]
  },
  {
   "cell_type": "code",
   "execution_count": 3,
   "id": "527dec12",
   "metadata": {},
   "outputs": [
    {
     "data": {
      "text/html": [
       "<div>\n",
       "<style scoped>\n",
       "    .dataframe tbody tr th:only-of-type {\n",
       "        vertical-align: middle;\n",
       "    }\n",
       "\n",
       "    .dataframe tbody tr th {\n",
       "        vertical-align: top;\n",
       "    }\n",
       "\n",
       "    .dataframe thead th {\n",
       "        text-align: right;\n",
       "    }\n",
       "</style>\n",
       "<table border=\"1\" class=\"dataframe\">\n",
       "  <thead>\n",
       "    <tr style=\"text-align: right;\">\n",
       "      <th></th>\n",
       "      <th>email title</th>\n",
       "      <th>spam</th>\n",
       "    </tr>\n",
       "  </thead>\n",
       "  <tbody>\n",
       "    <tr>\n",
       "      <th>0</th>\n",
       "      <td>free game only today</td>\n",
       "      <td>True</td>\n",
       "    </tr>\n",
       "    <tr>\n",
       "      <th>1</th>\n",
       "      <td>cheapest flight deal</td>\n",
       "      <td>True</td>\n",
       "    </tr>\n",
       "    <tr>\n",
       "      <th>2</th>\n",
       "      <td>limited time offer only today only today</td>\n",
       "      <td>True</td>\n",
       "    </tr>\n",
       "    <tr>\n",
       "      <th>3</th>\n",
       "      <td>today meeting schedule</td>\n",
       "      <td>False</td>\n",
       "    </tr>\n",
       "    <tr>\n",
       "      <th>4</th>\n",
       "      <td>your flight schedule attached</td>\n",
       "      <td>False</td>\n",
       "    </tr>\n",
       "    <tr>\n",
       "      <th>5</th>\n",
       "      <td>your credit card statement</td>\n",
       "      <td>False</td>\n",
       "    </tr>\n",
       "  </tbody>\n",
       "</table>\n",
       "</div>"
      ],
      "text/plain": [
       "                                email title   spam\n",
       "0                      free game only today   True\n",
       "1                      cheapest flight deal   True\n",
       "2  limited time offer only today only today   True\n",
       "3                    today meeting schedule  False\n",
       "4             your flight schedule attached  False\n",
       "5                your credit card statement  False"
      ]
     },
     "execution_count": 3,
     "metadata": {},
     "output_type": "execute_result"
    }
   ],
   "source": [
    "# 학습 데이터 준비\n",
    "email_list = [\n",
    "    {'email title' : 'free game only today', 'spam' : True},\n",
    "    {'email title' : 'cheapest flight deal', 'spam' : True},\n",
    "    {'email title' : 'limited time offer only today only today', 'spam' : True},\n",
    "    {'email title' : 'today meeting schedule', 'spam' : False},\n",
    "    {'email title' : 'your flight schedule attached', 'spam' : False},\n",
    "    {'email title' : 'your credit card statement', 'spam' : False}\n",
    "]\n",
    "df = pd.DataFrame(email_list)\n",
    "df"
   ]
  },
  {
   "cell_type": "code",
   "execution_count": 4,
   "id": "ea663ebc",
   "metadata": {},
   "outputs": [
    {
     "data": {
      "text/html": [
       "<div>\n",
       "<style scoped>\n",
       "    .dataframe tbody tr th:only-of-type {\n",
       "        vertical-align: middle;\n",
       "    }\n",
       "\n",
       "    .dataframe tbody tr th {\n",
       "        vertical-align: top;\n",
       "    }\n",
       "\n",
       "    .dataframe thead th {\n",
       "        text-align: right;\n",
       "    }\n",
       "</style>\n",
       "<table border=\"1\" class=\"dataframe\">\n",
       "  <thead>\n",
       "    <tr style=\"text-align: right;\">\n",
       "      <th></th>\n",
       "      <th>email title</th>\n",
       "      <th>spam</th>\n",
       "      <th>label</th>\n",
       "    </tr>\n",
       "  </thead>\n",
       "  <tbody>\n",
       "    <tr>\n",
       "      <th>0</th>\n",
       "      <td>free game only today</td>\n",
       "      <td>True</td>\n",
       "      <td>1</td>\n",
       "    </tr>\n",
       "    <tr>\n",
       "      <th>1</th>\n",
       "      <td>cheapest flight deal</td>\n",
       "      <td>True</td>\n",
       "      <td>1</td>\n",
       "    </tr>\n",
       "    <tr>\n",
       "      <th>2</th>\n",
       "      <td>limited time offer only today only today</td>\n",
       "      <td>True</td>\n",
       "      <td>1</td>\n",
       "    </tr>\n",
       "    <tr>\n",
       "      <th>3</th>\n",
       "      <td>today meeting schedule</td>\n",
       "      <td>False</td>\n",
       "      <td>0</td>\n",
       "    </tr>\n",
       "    <tr>\n",
       "      <th>4</th>\n",
       "      <td>your flight schedule attached</td>\n",
       "      <td>False</td>\n",
       "      <td>0</td>\n",
       "    </tr>\n",
       "    <tr>\n",
       "      <th>5</th>\n",
       "      <td>your credit card statement</td>\n",
       "      <td>False</td>\n",
       "      <td>0</td>\n",
       "    </tr>\n",
       "  </tbody>\n",
       "</table>\n",
       "</div>"
      ],
      "text/plain": [
       "                                email title   spam  label\n",
       "0                      free game only today   True      1\n",
       "1                      cheapest flight deal   True      1\n",
       "2  limited time offer only today only today   True      1\n",
       "3                    today meeting schedule  False      0\n",
       "4             your flight schedule attached  False      0\n",
       "5                your credit card statement  False      0"
      ]
     },
     "execution_count": 4,
     "metadata": {},
     "output_type": "execute_result"
    }
   ],
   "source": [
    "# 학습 데이터 다듬기\n",
    "# 사이킷런의 베르누이 나이브 베이즈 분류기는 숫자 데이터만 다루기 때문에 True와 False를 1과 0으로 치환한다.\n",
    "df['label'] = df.spam.map({True: 1, False: 0})\n",
    "df"
   ]
  },
  {
   "cell_type": "markdown",
   "id": "f0784fd5",
   "metadata": {},
   "source": [
    "학습에 사용할 데이터와 레이블(답, 실제값, 클래스, 타겟)로 분리한다.\n"
   ]
  },
  {
   "cell_type": "code",
   "execution_count": 5,
   "id": "cd5a5066",
   "metadata": {},
   "outputs": [
    {
     "data": {
      "text/plain": [
       "0                        free game only today\n",
       "1                        cheapest flight deal\n",
       "2    limited time offer only today only today\n",
       "3                      today meeting schedule\n",
       "4               your flight schedule attached\n",
       "5                  your credit card statement\n",
       "Name: email title, dtype: object"
      ]
     },
     "execution_count": 5,
     "metadata": {},
     "output_type": "execute_result"
    }
   ],
   "source": [
    "df_x = df['email title'] # 피처\n",
    "df_x"
   ]
  },
  {
   "cell_type": "code",
   "execution_count": 6,
   "id": "79e1108f",
   "metadata": {},
   "outputs": [
    {
     "data": {
      "text/plain": [
       "0    1\n",
       "1    1\n",
       "2    1\n",
       "3    0\n",
       "4    0\n",
       "5    0\n",
       "Name: label, dtype: int64"
      ]
     },
     "execution_count": 6,
     "metadata": {},
     "output_type": "execute_result"
    }
   ],
   "source": [
    "df_y = df['label'] # 타겟\n",
    "df_y"
   ]
  },
  {
   "cell_type": "markdown",
   "id": "d306c9be",
   "metadata": {},
   "source": [
    "이메일 제목(email title)으로 학습을 진행하고 레이블은 label을 사용해서 스팸 메일 여부를 판단한다.  \n",
    "\n",
    "베르누이 나이브 베이즈의 입력 데이터는 고정된(동일한) 크기의 벡터이어야 한다.  "
   ]
  },
  {
   "cell_type": "code",
   "execution_count": 7,
   "id": "56756494",
   "metadata": {},
   "outputs": [
    {
     "name": "stdout",
     "output_type": "stream",
     "text": [
      "free game only today cheapest flight deal limited time offer only today only today todat meeting scheduleyour flight schedule attached your credit card statment\n",
      "{'schedule', 'meeting', 'scheduleyour', 'time', 'deal', 'flight', 'today', 'offer', 'credit', 'statment', 'game', 'limited', 'todat', 'only', 'card', 'cheapest', 'your', 'free', 'attached'}\n",
      "['attached', 'card', 'cheapest', 'credit', 'deal', 'flight', 'free', 'game', 'limited', 'meeting', 'offer', 'only', 'schedule', 'scheduleyour', 'statment', 'time', 'todat', 'today', 'your']\n"
     ]
    }
   ],
   "source": [
    "string = 'free game only today cheapest flight deal limited time offer only today only today todat meeting schedule' \\\n",
    "    'your flight schedule attached your credit card statment'\n",
    "print(string)\n",
    "string = set(string.split())\n",
    "print(string)\n",
    "string = list(string)\n",
    "string.sort()\n",
    "print(string)"
   ]
  },
  {
   "cell_type": "code",
   "execution_count": 8,
   "id": "a45cf77a",
   "metadata": {},
   "outputs": [
    {
     "name": "stdout",
     "output_type": "stream",
     "text": [
      "<class 'numpy.ndarray'>\n",
      "[[0 0 0 0 0 0 1 1 0 0 0 1 0 0 0 1 0]\n",
      " [0 0 1 0 1 1 0 0 0 0 0 0 0 0 0 0 0]\n",
      " [0 0 0 0 0 0 0 0 1 0 1 1 0 0 1 1 0]\n",
      " [0 0 0 0 0 0 0 0 0 1 0 0 1 0 0 1 0]\n",
      " [1 0 0 0 0 1 0 0 0 0 0 0 1 0 0 0 1]\n",
      " [0 1 0 1 0 0 0 0 0 0 0 0 0 1 0 0 1]]\n"
     ]
    }
   ],
   "source": [
    "# CountVectorizer 객체는 문자열에 출현한 단어를 오름차순으로 정렬해 단어의 위치로 행렬을 만들어 리턴한다.\n",
    "# 특정 단어가 출현할 경우 출현한 단어의 개수를 리턴하고 출현하지 않으면 0을 리턴한다.\n",
    "# CountVectorizer 객체를 생성할 때 binary=True 옵션을 지정하면 같은 단어가 여러번 출현하더라도 무조건 1로 리턴한다.\n",
    "cv = CountVectorizer(binary=True) # CountVectorizer 객체를 만든다.\n",
    "x_train = cv.fit_transform(df_x) # 학습 후 적용\n",
    "\n",
    "encoding_input = x_train.toarray() # 넘파이 타입의 배열로 데이터를 변환한다.\n",
    "print(type(encoding_input))\n",
    "print(encoding_input)"
   ]
  },
  {
   "cell_type": "markdown",
   "id": "4fd2310b",
   "metadata": {},
   "source": [
    "위의 행렬에서 볼 수 있듯이 이메일 제목에서 총 17개의 단어가 발견되어 각 이메일 제목이 17개 크기의 벡터로 표현(인코딩)된 것을 확인할 수 있다.  \n",
    "베르누이 나이브 베이즈에서 사용하기 위해 이메일 제목에 중복돼서 출현한 단어가 있더라도 출현한 횟수로 표현되는 것이 아니라 단순히 1로 표현된 것을 알 수 있다.  "
   ]
  },
  {
   "cell_type": "code",
   "execution_count": 9,
   "id": "83f3ab48",
   "metadata": {
    "scrolled": true
   },
   "outputs": [
    {
     "name": "stdout",
     "output_type": "stream",
     "text": [
      "['free' 'game' 'only' 'today']\n",
      "['cheapest' 'deal' 'flight']\n",
      "['limited' 'offer' 'only' 'time' 'today']\n",
      "['meeting' 'schedule' 'today']\n",
      "['attached' 'flight' 'schedule' 'your']\n",
      "['card' 'credit' 'statement' 'your']\n"
     ]
    }
   ],
   "source": [
    "# inverse_transform() 메소드로 고정된 크기의 벡터에 포함된 단어를 확인할 수 있다.\n",
    "# print(cv.inverse_transform(encoding_input))\n",
    "for s in cv.inverse_transform(encoding_input):\n",
    "    print(s)"
   ]
  },
  {
   "cell_type": "code",
   "execution_count": 10,
   "id": "3d5a966e",
   "metadata": {},
   "outputs": [
    {
     "name": "stdout",
     "output_type": "stream",
     "text": [
      "['attached', 'card', 'cheapest', 'credit', 'deal', 'flight', 'free', 'game', 'limited', 'meeting', 'offer', 'only', 'schedule', 'statement', 'time', 'today', 'your']\n"
     ]
    }
   ],
   "source": [
    "# get_feature_names() 메소드로 고정된 벡터의 각 열(피처)이 어떤 단어를 의미하는지 확인할 수 있다.\n",
    "print(cv.get_feature_names())"
   ]
  },
  {
   "cell_type": "markdown",
   "id": "1dc3ba5e",
   "metadata": {},
   "source": [
    "베르누이 나이브 베이즈 모델 학습하기  \n",
    "\n",
    "사이킷런의 베르누이 나이브 베이즈 분류기는 기본적으로 라플라스 스무딩을 지원하므로 학습 데이터에 없던 단어가 테스트 데이터에 있어도 분류가 잘 진행된다.  \n",
    "\n",
    "라플라스 스무딩(Laplace Smoothing)  \n",
    "\n",
    "0이라는 수는 곱셈과 나눗셈을 무력화시키는 값이므로 그 전에 아무리 의미있는 값이 도출된다 하더라도 마지막에 0을 곱해버리면 값은 0이 나오게 된다.  \n",
    "이런 경우가 상당히 빈번하기 때문에 0이 아닌 최소값으로 보정을 하게 되는데 이를 라플라스 스무딩이라고 한다.  \n",
    "\n"
   ]
  },
  {
   "cell_type": "code",
   "execution_count": 11,
   "id": "66afc142",
   "metadata": {},
   "outputs": [
    {
     "data": {
      "text/plain": [
       "dtype('int64')"
      ]
     },
     "execution_count": 11,
     "metadata": {},
     "output_type": "execute_result"
    }
   ],
   "source": [
    "df_y.dtypes"
   ]
  },
  {
   "cell_type": "code",
   "execution_count": 12,
   "id": "2467883a",
   "metadata": {},
   "outputs": [
    {
     "data": {
      "text/plain": [
       "BernoulliNB()"
      ]
     },
     "execution_count": 12,
     "metadata": {},
     "output_type": "execute_result"
    }
   ],
   "source": [
    "bnb = BernoulliNB() # 베르누이 나이브 베이즈 모델을 만든다.\n",
    "# y_train = \n",
    "bnb.fit(x_train, df_y) # 베르누이 나이브 베이즈 모델을 학습시킨다.\n"
   ]
  },
  {
   "cell_type": "markdown",
   "id": "a20e7b51",
   "metadata": {},
   "source": [
    "테스트 데이터를 다듬고 테스트를 실행한다."
   ]
  },
  {
   "cell_type": "code",
   "execution_count": 13,
   "id": "3bbe38aa",
   "metadata": {},
   "outputs": [
    {
     "data": {
      "text/html": [
       "<div>\n",
       "<style scoped>\n",
       "    .dataframe tbody tr th:only-of-type {\n",
       "        vertical-align: middle;\n",
       "    }\n",
       "\n",
       "    .dataframe tbody tr th {\n",
       "        vertical-align: top;\n",
       "    }\n",
       "\n",
       "    .dataframe thead th {\n",
       "        text-align: right;\n",
       "    }\n",
       "</style>\n",
       "<table border=\"1\" class=\"dataframe\">\n",
       "  <thead>\n",
       "    <tr style=\"text-align: right;\">\n",
       "      <th></th>\n",
       "      <th>email title</th>\n",
       "      <th>spam</th>\n",
       "      <th>label</th>\n",
       "    </tr>\n",
       "  </thead>\n",
       "  <tbody>\n",
       "    <tr>\n",
       "      <th>0</th>\n",
       "      <td>free game only today</td>\n",
       "      <td>True</td>\n",
       "      <td>1</td>\n",
       "    </tr>\n",
       "    <tr>\n",
       "      <th>1</th>\n",
       "      <td>cheapest flight deal</td>\n",
       "      <td>True</td>\n",
       "      <td>1</td>\n",
       "    </tr>\n",
       "    <tr>\n",
       "      <th>2</th>\n",
       "      <td>limited time offer only today only today</td>\n",
       "      <td>True</td>\n",
       "      <td>1</td>\n",
       "    </tr>\n",
       "    <tr>\n",
       "      <th>3</th>\n",
       "      <td>today meeting schedule</td>\n",
       "      <td>False</td>\n",
       "      <td>0</td>\n",
       "    </tr>\n",
       "    <tr>\n",
       "      <th>4</th>\n",
       "      <td>your flight schedule attached</td>\n",
       "      <td>False</td>\n",
       "      <td>0</td>\n",
       "    </tr>\n",
       "    <tr>\n",
       "      <th>5</th>\n",
       "      <td>your credit card statement</td>\n",
       "      <td>False</td>\n",
       "      <td>0</td>\n",
       "    </tr>\n",
       "  </tbody>\n",
       "</table>\n",
       "</div>"
      ],
      "text/plain": [
       "                                email title   spam  label\n",
       "0                      free game only today   True      1\n",
       "1                      cheapest flight deal   True      1\n",
       "2  limited time offer only today only today   True      1\n",
       "3                    today meeting schedule  False      0\n",
       "4             your flight schedule attached  False      0\n",
       "5                your credit card statement  False      0"
      ]
     },
     "execution_count": 13,
     "metadata": {},
     "output_type": "execute_result"
    }
   ],
   "source": [
    "test_email_list = [\n",
    "    {'email title' : 'free flight offer', 'spam' : True},\n",
    "    {'email title' : 'hey traveler free flight deal', 'spam' : True},\n",
    "    {'email title' : 'limited free game offer', 'spam' : True},\n",
    "    {'email title' : 'today flight schedule', 'spam' : False},\n",
    "    {'email title' : 'your credit card attached', 'spam' : False},\n",
    "    {'email title' : 'free credit card offer only today', 'spam' : False}\n",
    "]\n",
    "test_df = pd.DataFrame(email_list)\n",
    "test_df['label'] = test_df.spam.map({True: 1, False: 0})\n",
    "test_df"
   ]
  },
  {
   "cell_type": "code",
   "execution_count": 14,
   "id": "6cf7acb1",
   "metadata": {},
   "outputs": [
    {
     "data": {
      "text/plain": [
       "0                        free game only today\n",
       "1                        cheapest flight deal\n",
       "2    limited time offer only today only today\n",
       "3                      today meeting schedule\n",
       "4               your flight schedule attached\n",
       "5                  your credit card statement\n",
       "Name: email title, dtype: object"
      ]
     },
     "execution_count": 14,
     "metadata": {},
     "output_type": "execute_result"
    }
   ],
   "source": [
    "test_x = test_df['email title'] \n",
    "test_x"
   ]
  },
  {
   "cell_type": "code",
   "execution_count": 15,
   "id": "5482952c",
   "metadata": {},
   "outputs": [
    {
     "data": {
      "text/plain": [
       "0    1\n",
       "1    1\n",
       "2    1\n",
       "3    0\n",
       "4    0\n",
       "5    0\n",
       "Name: label, dtype: int64"
      ]
     },
     "execution_count": 15,
     "metadata": {},
     "output_type": "execute_result"
    }
   ],
   "source": [
    "test_y = test_df['label'] \n",
    "test_y"
   ]
  },
  {
   "cell_type": "code",
   "execution_count": 21,
   "id": "25794a0e",
   "metadata": {},
   "outputs": [],
   "source": [
    "# 위에서 .fit.transform()으로 썼기 때문에 fit은 뺀다(주의!)\n",
    "# 위에서 학습을 시켰으므로 테스트 시에는 바로 적용만 한다.\n",
    "x_test = cv.transform(test_x) "
   ]
  },
  {
   "cell_type": "markdown",
   "id": "a057735d",
   "metadata": {},
   "source": [
    "모델 테스트"
   ]
  },
  {
   "cell_type": "code",
   "execution_count": 17,
   "id": "a8cb528a",
   "metadata": {},
   "outputs": [
    {
     "name": "stdout",
     "output_type": "stream",
     "text": [
      "정확도: 100.00%\n"
     ]
    }
   ],
   "source": [
    "predict = bnb.predict(x_test)\n",
    "accuracy = accuracy_score(test_y, predict)\n",
    "print('정확도: {:.2%}'.format(accuracy))\n"
   ]
  },
  {
   "cell_type": "code",
   "execution_count": 18,
   "id": "c95b828c",
   "metadata": {},
   "outputs": [
    {
     "name": "stdout",
     "output_type": "stream",
     "text": [
      "[[3 0]\n",
      " [0 3]]\n"
     ]
    }
   ],
   "source": [
    "conf_matrix = confusion_matrix(test_y, predict)\n",
    "print(conf_matrix)"
   ]
  },
  {
   "cell_type": "code",
   "execution_count": 19,
   "id": "74173c94",
   "metadata": {},
   "outputs": [
    {
     "name": "stdout",
     "output_type": "stream",
     "text": [
      "              precision    recall  f1-score   support\n",
      "\n",
      "           0       1.00      1.00      1.00         3\n",
      "           1       1.00      1.00      1.00         3\n",
      "\n",
      "    accuracy                           1.00         6\n",
      "   macro avg       1.00      1.00      1.00         6\n",
      "weighted avg       1.00      1.00      1.00         6\n",
      "\n"
     ]
    }
   ],
   "source": [
    "print(classification_report(test_y, predict))"
   ]
  },
  {
   "cell_type": "code",
   "execution_count": 20,
   "id": "01b12d04",
   "metadata": {},
   "outputs": [
    {
     "data": {
      "text/html": [
       "<div>\n",
       "<style scoped>\n",
       "    .dataframe tbody tr th:only-of-type {\n",
       "        vertical-align: middle;\n",
       "    }\n",
       "\n",
       "    .dataframe tbody tr th {\n",
       "        vertical-align: top;\n",
       "    }\n",
       "\n",
       "    .dataframe thead th {\n",
       "        text-align: right;\n",
       "    }\n",
       "</style>\n",
       "<table border=\"1\" class=\"dataframe\">\n",
       "  <thead>\n",
       "    <tr style=\"text-align: right;\">\n",
       "      <th></th>\n",
       "      <th>실제값</th>\n",
       "      <th>예측값</th>\n",
       "    </tr>\n",
       "  </thead>\n",
       "  <tbody>\n",
       "    <tr>\n",
       "      <th>0</th>\n",
       "      <td>1</td>\n",
       "      <td>1</td>\n",
       "    </tr>\n",
       "    <tr>\n",
       "      <th>1</th>\n",
       "      <td>1</td>\n",
       "      <td>1</td>\n",
       "    </tr>\n",
       "    <tr>\n",
       "      <th>2</th>\n",
       "      <td>1</td>\n",
       "      <td>1</td>\n",
       "    </tr>\n",
       "    <tr>\n",
       "      <th>3</th>\n",
       "      <td>0</td>\n",
       "      <td>0</td>\n",
       "    </tr>\n",
       "    <tr>\n",
       "      <th>4</th>\n",
       "      <td>0</td>\n",
       "      <td>0</td>\n",
       "    </tr>\n",
       "    <tr>\n",
       "      <th>5</th>\n",
       "      <td>0</td>\n",
       "      <td>0</td>\n",
       "    </tr>\n",
       "  </tbody>\n",
       "</table>\n",
       "</div>"
      ],
      "text/plain": [
       "   실제값  예측값\n",
       "0    1    1\n",
       "1    1    1\n",
       "2    1    1\n",
       "3    0    0\n",
       "4    0    0\n",
       "5    0    0"
      ]
     },
     "execution_count": 20,
     "metadata": {},
     "output_type": "execute_result"
    }
   ],
   "source": [
    "comparison = pd.DataFrame({'실제값': test_y, '예측값': predict})\n",
    "comparison"
   ]
  },
  {
   "cell_type": "code",
   "execution_count": null,
   "id": "9445a924",
   "metadata": {},
   "outputs": [],
   "source": []
  },
  {
   "cell_type": "code",
   "execution_count": null,
   "id": "dbc474b5",
   "metadata": {},
   "outputs": [],
   "source": []
  },
  {
   "cell_type": "code",
   "execution_count": null,
   "id": "9a6bbbfa",
   "metadata": {},
   "outputs": [],
   "source": []
  },
  {
   "cell_type": "code",
   "execution_count": null,
   "id": "a7417847",
   "metadata": {},
   "outputs": [],
   "source": []
  },
  {
   "cell_type": "code",
   "execution_count": null,
   "id": "6af03884",
   "metadata": {},
   "outputs": [],
   "source": []
  },
  {
   "cell_type": "code",
   "execution_count": null,
   "id": "566a46b3",
   "metadata": {},
   "outputs": [],
   "source": []
  },
  {
   "cell_type": "code",
   "execution_count": null,
   "id": "bea1bbab",
   "metadata": {},
   "outputs": [],
   "source": []
  },
  {
   "cell_type": "code",
   "execution_count": null,
   "id": "827ff648",
   "metadata": {},
   "outputs": [],
   "source": []
  }
 ],
 "metadata": {
  "kernelspec": {
   "display_name": "Python 3",
   "language": "python",
   "name": "python3"
  },
  "language_info": {
   "codemirror_mode": {
    "name": "ipython",
    "version": 3
   },
   "file_extension": ".py",
   "mimetype": "text/x-python",
   "name": "python",
   "nbconvert_exporter": "python",
   "pygments_lexer": "ipython3",
   "version": "3.6.8"
  }
 },
 "nbformat": 4,
 "nbformat_minor": 5
}
