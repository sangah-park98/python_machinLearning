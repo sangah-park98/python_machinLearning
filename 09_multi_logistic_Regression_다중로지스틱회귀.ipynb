{
 "cells": [
  {
   "cell_type": "code",
   "execution_count": 1,
   "id": "f0875419",
   "metadata": {},
   "outputs": [
    {
     "name": "stdout",
     "output_type": "stream",
     "text": [
      "WARNING:tensorflow:From c:\\python\\lib\\site-packages\\tensorflow\\python\\compat\\v2_compat.py:101: disable_resource_variables (from tensorflow.python.ops.variable_scope) is deprecated and will be removed in a future version.\n",
      "Instructions for updating:\n",
      "non-resource variables are not supported in the long term\n"
     ]
    }
   ],
   "source": [
    "import warnings\n",
    "warnings.filterwarnings(action='ignore')\n",
    "%config Completer.use_jedi = False\n",
    "import tensorflow.compat.v1 as tf \n",
    "tf.disable_v2_behavior()\n",
    "import pandas as pd\n",
    "import numpy as np"
   ]
  },
  {
   "cell_type": "code",
   "execution_count": 2,
   "id": "92f2b76a",
   "metadata": {},
   "outputs": [
    {
     "name": "stdout",
     "output_type": "stream",
     "text": [
      "[[2, 3], [4, 3], [6, 4], [8, 6], [10, 7], [12, 8], [14, 9]]\n",
      "<class 'list'>\n",
      "[[ 2  3]\n",
      " [ 4  3]\n",
      " [ 6  4]\n",
      " [ 8  6]\n",
      " [10  7]\n",
      " [12  8]\n",
      " [14  9]]\n",
      "<class 'numpy.ndarray'>\n"
     ]
    }
   ],
   "source": [
    "# x => [공부 시간, 과외 시간]\n",
    "x = [[2, 3], [4, 3], [6, 4], [8, 6], [10, 7], [12, 8], [14, 9]] # 7행 2열\n",
    "print(x)\n",
    "print(type(x))\n",
    "\n",
    "xData = np.array(x)\n",
    "print(xData)\n",
    "print(type(xData))"
   ]
  },
  {
   "cell_type": "code",
   "execution_count": 3,
   "id": "59e4cc46",
   "metadata": {},
   "outputs": [
    {
     "name": "stdout",
     "output_type": "stream",
     "text": [
      "[0, 0, 0, 1, 1, 1, 1]\n",
      "<class 'list'>\n",
      "[0 0 0 1 1 1 1]\n",
      "<class 'numpy.ndarray'>\n",
      "[[0]\n",
      " [0]\n",
      " [0]\n",
      " [1]\n",
      " [1]\n",
      " [1]\n",
      " [1]]\n",
      "<class 'numpy.ndarray'>\n"
     ]
    }
   ],
   "source": [
    "# y => [합격 여부] => 실제값\n",
    "y = [0, 0, 0, 1, 1, 1, 1] # 1행 7열\n",
    "# 행수를 맞추기 위해 7행 1열로 shape을 만들어야 한다. => 그러려면 numpy배열로 바꾼 후 reshape()을 써야 한다.\n",
    "print(y)\n",
    "print(type(y))\n",
    "\n",
    "yData = np.array(y)\n",
    "print(yData)\n",
    "print(type(yData))\n",
    "\n",
    "# reshape(): 넘파이에서 데이터는 그대로 유지한채 배열의 형태(차원)을 변경한다.\n",
    "# 1행 7열 넘파이 배열 => 7행 1열 넘파이 배열\n",
    "yData = np.array(y).reshape(7, 1)\n",
    "print(yData)\n",
    "print(type(yData))\n"
   ]
  },
  {
   "cell_type": "markdown",
   "id": "37bbdcf4",
   "metadata": {},
   "source": [
    "xData와 yData를 저장할 placeholder를 만든다."
   ]
  },
  {
   "cell_type": "code",
   "execution_count": 4,
   "id": "250deab7",
   "metadata": {},
   "outputs": [],
   "source": [
    "# 데이터 개수를 그때 그때 다르게 하기 위해 placeholder를 지정한다.\n",
    "# placeholder에 넘파이 배열을 대입하는 경우 shape 속성을 이용해서 대입될 넘파이 배열의 차원을 지정해야 한다.\n",
    "# [None, 2]이라고 적으면 행이 없다는 게 아니고 행에 몇 행이 와도 상관 없고, 열은 무조건 2개가 와야 한다는 뜻\n",
    "X = tf.placeholder(dtype=tf.float32, shape=[None, 2]) # xData가 대입될 placeholder \n",
    "Y = tf.placeholder(dtype=tf.float32, shape=[None, 1]) # yData가 대입될 placeholder"
   ]
  },
  {
   "cell_type": "markdown",
   "id": "fa086d5c",
   "metadata": {},
   "source": [
    "가중치와 y절편을 임의의 값으로 정한다."
   ]
  },
  {
   "cell_type": "code",
   "execution_count": 5,
   "id": "5cd65b17",
   "metadata": {},
   "outputs": [
    {
     "name": "stdout",
     "output_type": "stream",
     "text": [
      "a\n",
      " [[0.9606966 ]\n",
      " [0.61551523]]\n",
      "b\n",
      " [0.8349191]\n",
      "a[0]: 0.960697, a[1]: 0.615515, b: 0.834919\n",
      "a[0]: 0.960697, a[1]: 0.615515, b: 0.834919\n"
     ]
    }
   ],
   "source": [
    "# 위의 shape=[None, 2]에서의 2와 uniform([2, 1])의 2는 같아야 한다.\n",
    "a = tf.Variable(tf.random_uniform([2, 1], dtype=tf.float32)) # 난수를 2행 1열로 발생시킨다.\n",
    "b = tf.Variable(tf.random_uniform([1], dtype=tf.float32))\n",
    "sess = tf.Session()\n",
    "sess.run(tf.global_variables_initializer()) \n",
    "# print('a = {}, b = {}'.format(sess.run(a), sess.run(b)))\n",
    "print('a\\n', sess.run(a), sep=' ')\n",
    "print('b\\n', sess.run(b))\n",
    "print('a[0]: {:f}, a[1]: {:f}, b: {:f}'.format(sess.run(a)[0][0], sess.run(a)[1][0], sess.run(b)[0]))\n",
    "print('a[0]: %f, a[1]: %f, b: %f' % (sess.run(a)[0], sess.run(a)[1], sess.run(b)))"
   ]
  },
  {
   "cell_type": "markdown",
   "id": "0f85cd57",
   "metadata": {},
   "source": [
    "시그모이드 방정식, 오차 함수, 경사 하강"
   ]
  },
  {
   "cell_type": "code",
   "execution_count": 6,
   "id": "9d015db4",
   "metadata": {},
   "outputs": [],
   "source": [
    "# sigmoid(): tensorflow에서 시그모이드 방정식을 계산한다.\n",
    "# matmul(): tensorflow에서 행렬의 곱(적)을 계산한다. (데이터 * 가중치를 알아서 계산해준다.)\n",
    "# Y = 1 / (1 + np.e ** - (a1*x1 + a2*x2 + b))\n",
    "# 시그모이드 방정식, 예측값\n",
    "y = tf.sigmoid(tf.matmul(X, a) + b) # X에 들어있는 행 데이터에서 a의 가중치만큼 알아서 돌면서 계산해준다.\n",
    "loss = -tf.reduce_mean(Y * tf.log(y) + (1 - Y) * tf.log(1 - y)) # 오차 함수 \n",
    "gradient_descent = tf.train.GradientDescentOptimizer(0.1).minimize(loss) # 경사 하강"
   ]
  },
  {
   "cell_type": "markdown",
   "id": "96877a88",
   "metadata": {},
   "source": [
    "sigmoid() 메소드의 실행 결과(y)가 0.5 이상이면 1을 0.5 미만이면 -1을 리턴시킨다."
   ]
  },
  {
   "cell_type": "code",
   "execution_count": 7,
   "id": "c93a892a",
   "metadata": {},
   "outputs": [
    {
     "name": "stdout",
     "output_type": "stream",
     "text": [
      "[1 2]\n",
      "[1 0]\n",
      "[1 0]\n"
     ]
    }
   ],
   "source": [
    "sess = tf.Session()\n",
    "# cast(data, dtype): tensorfloew에서 데이터(data)를 dtype으로 형변환한다.\n",
    "predict = tf.cast(tf.constant([1.9, 2.1]), dtype=tf.int32)\n",
    "print(sess.run(predict)) # [1. 2]\n",
    "# cast() 메소드는 캐스팅 할 데이터가 boolean 타입이면 True는 1로 False는 0으로 형변환한다.\n",
    "predict = tf.cast(tf.constant([True, False]), dtype=tf.int32)\n",
    "print(sess.run(predict)) # [1, 0]\n",
    "predict = tf.cast([0.5 >= 0.5, 0.5 < 0.5], dtype=tf.int32)\n",
    "print(sess.run(predict)) # [1, 0] True, False와 동일한 결과가 나온다."
   ]
  },
  {
   "cell_type": "markdown",
   "id": "24010082",
   "metadata": {},
   "source": [
    "sigmoid() 메소드를 실행한 예상값(0 또는 1)을 계산한다."
   ]
  },
  {
   "cell_type": "code",
   "execution_count": 8,
   "id": "d7f9402b",
   "metadata": {},
   "outputs": [],
   "source": [
    "predict = tf.cast(y >= 0.5, dtype=tf.float32) # 조건이 60점 이상이면 0.6으로 바꾸면 되지~~~"
   ]
  },
  {
   "cell_type": "markdown",
   "id": "b0157165",
   "metadata": {},
   "source": [
    "예측값(predict)과 실제값(Y)이 일치하는 정도(정확도, accurancy)를 계산한다."
   ]
  },
  {
   "cell_type": "code",
   "execution_count": 11,
   "id": "2ccc1419",
   "metadata": {
    "scrolled": true
   },
   "outputs": [
    {
     "name": "stdout",
     "output_type": "stream",
     "text": [
      "True False\n"
     ]
    }
   ],
   "source": [
    "sess = tf.Session()\n",
    "# equal(): tensorflow에서 인수로 지정한 값이 같으면 True, 다르면 False를 리턴한다.\n",
    "print(sess.run(tf.equal(1, 1)), sess.run(tf.equal(1, 2)))\n",
    "# equal() 메소드로 예측값과 실제값이 같은가 비교 후 True 또는 False를 cast() 메소드로 1 또는 0으로 캐스팅하고 그 결과의 평균을 낸다.\n",
    "# 그러면 정확도가 계산되는 것\n",
    "accuracy = tf.reduce_mean(tf.cast(tf.equal(predict, Y), dtype=tf.float32))"
   ]
  },
  {
   "cell_type": "code",
   "execution_count": 14,
   "id": "9e169ec7",
   "metadata": {},
   "outputs": [
    {
     "name": "stdout",
     "output_type": "stream",
     "text": [
      "epoch:      0, loss:  1.6798, a1:  0.6537, a2: -0.0470, b:  0.2507\n",
      "epoch:    300, loss:  0.2687, a1:  0.8841, a2: -0.6553, b: -2.4063\n",
      "epoch:    600, loss:  0.1936, a1:  0.8579, a2: -0.3488, b: -3.8638\n",
      "epoch:    900, loss:  0.1514, a1:  0.7578, a2: -0.0069, b: -4.9282\n",
      "epoch:   1200, loss:  0.1238, a1:  0.6484, a2:  0.3081, b: -5.7723\n",
      "epoch:   1500, loss:  0.1044, a1:  0.5456, a2:  0.5871, b: -6.4730\n",
      "epoch:   1800, loss:  0.0901, a1:  0.4535, a2:  0.8323, b: -7.0722\n",
      "epoch:   2100, loss:  0.0792, a1:  0.3720, a2:  1.0482, b: -7.5958\n",
      "epoch:   2400, loss:  0.0706, a1:  0.3002, a2:  1.2394, b: -8.0609\n",
      "epoch:   2700, loss:  0.0636, a1:  0.2368, a2:  1.4100, b: -8.4793\n",
      "epoch:   3000, loss:  0.0579, a1:  0.1805, a2:  1.5632, b: -8.8595\n",
      "실제값\n",
      "[[0]\n",
      " [0]\n",
      " [0]\n",
      " [1]\n",
      " [1]\n",
      " [1]\n",
      " [1]]\n",
      "예상값\n",
      "[[0.]\n",
      " [0.]\n",
      " [0.]\n",
      " [1.]\n",
      " [1.]\n",
      " [1.]\n",
      " [1.]]\n",
      "정확도: 100.00%\n"
     ]
    }
   ],
   "source": [
    "sess = tf.Session()\n",
    "sess.run(tf.global_variables_initializer())\n",
    "\n",
    "for epoch in range(3001):\n",
    "    # sess.run([실행할 내용, ...], feed_dict={플레이스홀더 이름: 플레이스홀더에 저장할 데이터, ...})\n",
    "    a_, b_, loss_, _, predict_, accuracy_ = sess.run([a, b, loss, gradient_descent, predict, accuracy], feed_dict={X: xData, Y: yData})\n",
    "    if epoch % 300 == 0:\n",
    "        print('epoch: {:6d}, loss: {:7.4f}, a1: {:7.4f}, a2: {:7.4f}, b: {:7.4f}'.format(epoch, loss_, a_[0][0], a_[1][0], b_[0]))\n",
    "        # print('epoch: %6d, loss: %7.4f, a: %7.4f, b: %7.4f' % (epoch, sess.run(loss), sess.run(a), sess.run(b)))\n",
    "print('실제값\\n', yData, sep='')\n",
    "print('예상값\\n', predict_, sep='')\n",
    "print('정확도: {:6.2%}'.format(accuracy_))"
   ]
  },
  {
   "cell_type": "code",
   "execution_count": null,
   "id": "5adc8026",
   "metadata": {},
   "outputs": [],
   "source": []
  },
  {
   "cell_type": "code",
   "execution_count": null,
   "id": "258fbfb9",
   "metadata": {},
   "outputs": [],
   "source": []
  },
  {
   "cell_type": "code",
   "execution_count": null,
   "id": "dad18065",
   "metadata": {},
   "outputs": [],
   "source": []
  },
  {
   "cell_type": "code",
   "execution_count": null,
   "id": "d1665852",
   "metadata": {},
   "outputs": [],
   "source": []
  },
  {
   "cell_type": "code",
   "execution_count": null,
   "id": "6f52c5dd",
   "metadata": {},
   "outputs": [],
   "source": []
  },
  {
   "cell_type": "code",
   "execution_count": null,
   "id": "56823b33",
   "metadata": {},
   "outputs": [],
   "source": []
  },
  {
   "cell_type": "code",
   "execution_count": null,
   "id": "7949f57a",
   "metadata": {},
   "outputs": [],
   "source": []
  },
  {
   "cell_type": "code",
   "execution_count": null,
   "id": "d45c6bd7",
   "metadata": {},
   "outputs": [],
   "source": []
  },
  {
   "cell_type": "code",
   "execution_count": null,
   "id": "74c3c5b2",
   "metadata": {},
   "outputs": [],
   "source": []
  },
  {
   "cell_type": "code",
   "execution_count": null,
   "id": "1f602e3a",
   "metadata": {},
   "outputs": [],
   "source": []
  },
  {
   "cell_type": "code",
   "execution_count": null,
   "id": "8c9414b5",
   "metadata": {},
   "outputs": [],
   "source": []
  },
  {
   "cell_type": "code",
   "execution_count": null,
   "id": "709b724c",
   "metadata": {},
   "outputs": [],
   "source": []
  },
  {
   "cell_type": "code",
   "execution_count": null,
   "id": "d02291b7",
   "metadata": {},
   "outputs": [],
   "source": []
  }
 ],
 "metadata": {
  "kernelspec": {
   "display_name": "Python 3",
   "language": "python",
   "name": "python3"
  },
  "language_info": {
   "codemirror_mode": {
    "name": "ipython",
    "version": 3
   },
   "file_extension": ".py",
   "mimetype": "text/x-python",
   "name": "python",
   "nbconvert_exporter": "python",
   "pygments_lexer": "ipython3",
   "version": "3.6.8"
  }
 },
 "nbformat": 4,
 "nbformat_minor": 5
}
