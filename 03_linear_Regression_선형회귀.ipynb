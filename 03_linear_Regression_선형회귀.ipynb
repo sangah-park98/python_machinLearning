{
 "cells": [
  {
   "cell_type": "code",
   "execution_count": 1,
   "id": "a94d640b",
   "metadata": {},
   "outputs": [
    {
     "name": "stdout",
     "output_type": "stream",
     "text": [
      "WARNING:tensorflow:From c:\\python\\lib\\site-packages\\tensorflow\\python\\compat\\v2_compat.py:101: disable_resource_variables (from tensorflow.python.ops.variable_scope) is deprecated and will be removed in a future version.\n",
      "Instructions for updating:\n",
      "non-resource variables are not supported in the long term\n"
     ]
    }
   ],
   "source": [
    "import warnings\n",
    "warnings.filterwarnings(action='ignore')\n",
    "%config Completer.use_jedi = False\n",
    "import tensorflow.compat.v1 as tf \n",
    "tf.disable_v2_behavior()"
   ]
  },
  {
   "cell_type": "markdown",
   "id": "f0fc71f1",
   "metadata": {},
   "source": [
    "학습 데이터를 만든다."
   ]
  },
  {
   "cell_type": "code",
   "execution_count": 13,
   "id": "80cf6bf4",
   "metadata": {},
   "outputs": [],
   "source": [
    "xData = [1, 2, 3, 4, 5, 6, 7] # 1일 근무시간\n",
    "yData = [25000, 55000, 75000, 110000, 128000, 155000, 180000] # 근무시간에 따른 매출 금액, 실제값, 관측값, 답, 레이블"
   ]
  },
  {
   "cell_type": "markdown",
   "id": "869366bb",
   "metadata": {},
   "source": [
    "과적합을 방지하기 위해서 난수를 발생시켜 기울기(가중치)와 y절편(바이어스)을 정한다.  \n",
    "과적합이란 학습시킨 데이터에서는 높은 정확도를 보이지만 학습시킨 데이터 이외의 데이터에서는 낮은 정확도를 보이는 문제점을 말한다."
   ]
  },
  {
   "cell_type": "code",
   "execution_count": 2,
   "id": "088b3945",
   "metadata": {},
   "outputs": [
    {
     "name": "stdout",
     "output_type": "stream",
     "text": [
      "a = <tf.Variable 'Variable:0' shape=(1,) dtype=float32_ref>, b = <tf.Variable 'Variable_1:0' shape=(1,) dtype=float32_ref>\n"
     ]
    }
   ],
   "source": [
    "# tf.random_uniform([난수의 개수], 최소값, 최대값)  # 난수의 개수만 지정해줘도 되지만 범위를 줄이기 위해 최소, 최대 사용\n",
    "# => 최대값과 최소값 사이에서 지정한 개수의 난수를 발생시킨다.\n",
    "a = tf.Variable(tf.random_uniform([1], -100, 100)) # 기울기(가중치), 100 ~ 100 사이의 난수\n",
    "b = tf.Variable(tf.random_uniform([1], -100, 100)) # y절편(바이어스), -100 ~ 100 사이의 난수\n",
    "print('a = {}, b = {}'.format(a, b))"
   ]
  },
  {
   "cell_type": "markdown",
   "id": "108de68f",
   "metadata": {},
   "source": [
    "tensorflow 변수를 초기화하고 난수로 발생시킨 기울기와 y절편의 값을 확인한다."
   ]
  },
  {
   "cell_type": "code",
   "execution_count": 5,
   "id": "a72ae233",
   "metadata": {},
   "outputs": [
    {
     "name": "stdout",
     "output_type": "stream",
     "text": [
      "a = [-6.4214478], b = [-63.66272]\n"
     ]
    }
   ],
   "source": [
    "sess = tf.Session()\n",
    "sess.run(tf.global_variables_initializer())\n",
    "print('a = {}, b = {}'.format(sess.run(a), sess.run(b)))"
   ]
  },
  {
   "cell_type": "markdown",
   "id": "a1d83ddd",
   "metadata": {},
   "source": [
    "근무 시간과 매출 금액을 기억할 tensorflow에서 사용할 자료형(placeholder)을 선언한다."
   ]
  },
  {
   "cell_type": "code",
   "execution_count": 8,
   "id": "bbd9722e",
   "metadata": {},
   "outputs": [],
   "source": [
    "x = tf.placeholder(dtype=tf.float32) # 근무 시간을 기억할 placeholder를 선언한다.\n",
    "y = tf.placeholder(dtype=tf.float32) # 매출금액을 기억할 placeholder를 선언한다."
   ]
  },
  {
   "cell_type": "markdown",
   "id": "d23361b4",
   "metadata": {},
   "source": [
    "1차 방정식 형태의 가설을 세우고 오차(손실, 비용) 함수를 정의한다."
   ]
  },
  {
   "cell_type": "code",
   "execution_count": 9,
   "id": "1f266277",
   "metadata": {},
   "outputs": [],
   "source": [
    "# 1차 방정식 형태의 가설, Y => 예측값\n",
    "Y = a * x + b\n",
    "# 평균 제곱법을 이용하는 오차 함수\n",
    "# 실제값(yData => y라는 placeholder에 저장한다.)과 예측값(Y)의 편차에 대한 제곱의 평균을 이용한다.\n",
    "# square(): tensorflow에서 제곱값을 계산한다.\n",
    "# reduce_mean(): tensorflow에서 평균을 계산한다.\n",
    "cost = tf.reduce_mean(tf.square(Y - y)) # 값의 제곱의 평균"
   ]
  },
  {
   "cell_type": "markdown",
   "id": "328f405d",
   "metadata": {},
   "source": [
    "경사 하강법 메소드로 오차 함수의 실행 결과를 가장 작게(최소) 만드는 방향으로 학습하도록 정의한다."
   ]
  },
  {
   "cell_type": "code",
   "execution_count": 10,
   "id": "8f09bace",
   "metadata": {},
   "outputs": [],
   "source": [
    "# 경사 하강 알고리즘의 학습율(learning rate)을 설정한다.\n",
    "learning_rate = tf.Variable(0.01)\n",
    "# train.GradientDescentOptimizer(학습율): 학습율에 따른 오차를 계산한다.\n",
    "# minimize(오차함수): 경하 하강 알고리즘에 따라 인수로 지정된 오차 함수 실행 결과의 최소값을 찾는다.\n",
    "train = tf.train.GradientDescentOptimizer(learning_rate).minimize(cost)"
   ]
  },
  {
   "cell_type": "markdown",
   "id": "83c081b9",
   "metadata": {},
   "source": [
    "학습시킨다."
   ]
  },
  {
   "cell_type": "code",
   "execution_count": 28,
   "id": "eacd5337",
   "metadata": {},
   "outputs": [
    {
     "name": "stdout",
     "output_type": "stream",
     "text": [
      "epoch:    0, 오차:  4574950912.00, 기울기: 10389.727, y절편:  2144.442\n",
      "epoch:  500, 오차:     8689169.00, 기울기: 25535.525, y절편:  1960.069\n",
      "epoch: 1000, 오차:     8633851.00, 기울기: 25627.215, y절편:  1506.026\n",
      "epoch: 1500, 오차:     8632675.00, 기울기: 25640.576, y절편:  1439.862\n",
      "epoch: 2000, 오차:     8632656.00, 기울기: 25642.525, y절편:  1430.214\n",
      "epoch: 2500, 오차:     8632654.00, 기울기: 25642.805, y절편:  1428.823\n",
      "epoch: 3000, 오차:     8632658.00, 기울기: 25642.844, y절편:  1428.634\n",
      "epoch: 3500, 오차:     8632656.00, 기울기: 25642.848, y절편:  1428.613\n",
      "epoch: 4000, 오차:     8632656.00, 기울기: 25642.848, y절편:  1428.613\n",
      "epoch: 4500, 오차:     8632656.00, 기울기: 25642.848, y절편:  1428.613\n",
      "epoch: 5000, 오차:     8632656.00, 기울기: 25642.848, y절편:  1428.613\n",
      "기울기: 25642.848, y절편:  1428.613\n",
      "8시간 근무했을 때 예상 매출 금액: 206,571원\n"
     ]
    }
   ],
   "source": [
    "# Session을 만들고 변수를 초기화시킨다.\n",
    "sess = tf.Session()\n",
    "sess.run(tf.global_variables_initializer())\n",
    "\n",
    "for i in range(5001):\n",
    "    # 오차 함수의 결과를 가장 작게 만드는 학습을 할 수 있도록 placeholder에 데이터를 대입하고 학습시킨다.\n",
    "    # 학습할 데이터는 반드시 placeholder에 feed_dict 속성에 딕셔너리 타입으로 대입시켜야 한다.\n",
    "    # 딕셔너리의 key에는 placeholder, value에는 placeholder에 저장할 리스트 또는 튜플 타입의 데이터를 지정한다.\n",
    "    sess.run(train, feed_dict={x: xData, y: yData})\n",
    "    \n",
    "    # 일정 에포크(epoch) 단위마다 중간 결과를 출력한다.\n",
    "    if i % 500 == 0:\n",
    "        # epoch(i), 오차(cost), 기울기(a), y절편(b)\n",
    "        # 오차에 nan이 나오면 학습율을 낮추면 된다.\n",
    "        # print('epoch: {:4d}, 오차: {:14.2f}, 기울기: {:9.3f}, y절편: {:9.3f}'.format(i, \n",
    "        #        sess.run(cost, feed_dict={x: xData, y: yData}), sess.run(a)[0], sess.run(b)[0]))\n",
    "        \n",
    "        print('epoch: %4d, 오차: %14.2f, 기울기: %9.3f, y절편: %9.3f' % (i, sess.run(cost, feed_dict={x: xData, y: yData}), sess.run(a), sess.run(b)))\n",
    "print('기울기: {:9.3f}, y절편: {:9.3f}'.format(sess.run(a)[0], sess.run(b)[0]))\n",
    "print('8시간 근무했을 때 예상 매출 금액: {:,.0f}원'.format(sess.run(a)[0] * 8 + sess.run(b)[0]))"
   ]
  },
  {
   "cell_type": "markdown",
   "id": "8b06a21a",
   "metadata": {},
   "source": [
    "학습이 완료된 후 원하는 입력에 대한 예측 결과를 출력한다."
   ]
  },
  {
   "cell_type": "code",
   "execution_count": 27,
   "id": "e9c39665",
   "metadata": {},
   "outputs": [
    {
     "name": "stdout",
     "output_type": "stream",
     "text": [
      " 8시간 근무했을 때 예상 매출 금액: 206,571원\n",
      " 9시간 근무했을 때 예상 매출 금액: 232,214원\n",
      "10시간 근무했을 때 예상 매출 금액: 257,857원\n",
      "11시간 근무했을 때 예상 매출 금액: 283,500원\n",
      "12시간 근무했을 때 예상 매출 금액: 309,143원\n",
      "13시간 근무했을 때 예상 매출 금액: 334,786원\n",
      "14시간 근무했을 때 예상 매출 금액: 360,428원\n",
      "15시간 근무했을 때 예상 매출 금액: 386,071원\n",
      "16시간 근무했을 때 예상 매출 금액: 411,714원\n",
      "17시간 근무했을 때 예상 매출 금액: 437,357원\n",
      "18시간 근무했을 때 예상 매출 금액: 463,000원\n",
      "19시간 근무했을 때 예상 매출 금액: 488,643원\n",
      "20시간 근무했을 때 예상 매출 금액: 514,286원\n",
      "21시간 근무했을 때 예상 매출 금액: 539,928원\n",
      "22시간 근무했을 때 예상 매출 금액: 565,571원\n",
      "23시간 근무했을 때 예상 매출 금액: 591,214원\n",
      "24시간 근무했을 때 예상 매출 금액: 616,857원\n"
     ]
    }
   ],
   "source": [
    "for i in range(8, 25):\n",
    "    # print('{:2d}시간 근무했을 때 예상 매출 금액: {:,.0f}원'.format(i, sess.run(a)[0] * i + sess.run(b)[0]))\n",
    "    print('{:2d}시간 근무했을 때 예상 매출 금액: {:,.0f}원'.format(i, sess.run(Y, feed_dict={x : [i]})[0]))"
   ]
  },
  {
   "cell_type": "code",
   "execution_count": null,
   "id": "d1a25eff",
   "metadata": {},
   "outputs": [],
   "source": []
  },
  {
   "cell_type": "code",
   "execution_count": null,
   "id": "78442f96",
   "metadata": {},
   "outputs": [],
   "source": []
  },
  {
   "cell_type": "code",
   "execution_count": null,
   "id": "7d0bb207",
   "metadata": {},
   "outputs": [],
   "source": []
  },
  {
   "cell_type": "code",
   "execution_count": null,
   "id": "0e09f282",
   "metadata": {},
   "outputs": [],
   "source": []
  },
  {
   "cell_type": "code",
   "execution_count": null,
   "id": "09824259",
   "metadata": {},
   "outputs": [],
   "source": []
  },
  {
   "cell_type": "code",
   "execution_count": null,
   "id": "49b51e84",
   "metadata": {},
   "outputs": [],
   "source": []
  },
  {
   "cell_type": "code",
   "execution_count": null,
   "id": "b09e6b8b",
   "metadata": {},
   "outputs": [],
   "source": []
  },
  {
   "cell_type": "code",
   "execution_count": null,
   "id": "1e7b70b1",
   "metadata": {},
   "outputs": [],
   "source": []
  },
  {
   "cell_type": "code",
   "execution_count": null,
   "id": "d762be6a",
   "metadata": {},
   "outputs": [],
   "source": []
  },
  {
   "cell_type": "code",
   "execution_count": null,
   "id": "b85c3e2e",
   "metadata": {},
   "outputs": [],
   "source": []
  },
  {
   "cell_type": "code",
   "execution_count": null,
   "id": "b796b258",
   "metadata": {},
   "outputs": [],
   "source": []
  }
 ],
 "metadata": {
  "kernelspec": {
   "display_name": "Python 3",
   "language": "python",
   "name": "python3"
  },
  "language_info": {
   "codemirror_mode": {
    "name": "ipython",
    "version": 3
   },
   "file_extension": ".py",
   "mimetype": "text/x-python",
   "name": "python",
   "nbconvert_exporter": "python",
   "pygments_lexer": "ipython3",
   "version": "3.6.8"
  }
 },
 "nbformat": 4,
 "nbformat_minor": 5
}
